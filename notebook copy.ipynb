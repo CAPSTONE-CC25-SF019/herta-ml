{
 "cells": [
  {
   "cell_type": "code",
   "execution_count": 1,
   "metadata": {},
   "outputs": [
    {
     "name": "stderr",
     "output_type": "stream",
     "text": [
      "2025-03-27 07:33:17.942341: I tensorflow/core/util/port.cc:153] oneDNN custom operations are on. You may see slightly different numerical results due to floating-point round-off errors from different computation orders. To turn them off, set the environment variable `TF_ENABLE_ONEDNN_OPTS=0`.\n",
      "2025-03-27 07:33:17.943117: I external/local_xla/xla/tsl/cuda/cudart_stub.cc:32] Could not find cuda drivers on your machine, GPU will not be used.\n",
      "2025-03-27 07:33:17.947110: I external/local_xla/xla/tsl/cuda/cudart_stub.cc:32] Could not find cuda drivers on your machine, GPU will not be used.\n",
      "2025-03-27 07:33:17.959028: E external/local_xla/xla/stream_executor/cuda/cuda_fft.cc:467] Unable to register cuFFT factory: Attempting to register factory for plugin cuFFT when one has already been registered\n",
      "WARNING: All log messages before absl::InitializeLog() is called are written to STDERR\n",
      "E0000 00:00:1743060797.978678   16278 cuda_dnn.cc:8579] Unable to register cuDNN factory: Attempting to register factory for plugin cuDNN when one has already been registered\n",
      "E0000 00:00:1743060797.984500   16278 cuda_blas.cc:1407] Unable to register cuBLAS factory: Attempting to register factory for plugin cuBLAS when one has already been registered\n",
      "W0000 00:00:1743060797.999115   16278 computation_placer.cc:177] computation placer already registered. Please check linkage and avoid linking the same target more than once.\n",
      "W0000 00:00:1743060797.999129   16278 computation_placer.cc:177] computation placer already registered. Please check linkage and avoid linking the same target more than once.\n",
      "W0000 00:00:1743060797.999131   16278 computation_placer.cc:177] computation placer already registered. Please check linkage and avoid linking the same target more than once.\n",
      "W0000 00:00:1743060797.999132   16278 computation_placer.cc:177] computation placer already registered. Please check linkage and avoid linking the same target more than once.\n",
      "2025-03-27 07:33:18.004003: I tensorflow/core/platform/cpu_feature_guard.cc:210] This TensorFlow binary is optimized to use available CPU instructions in performance-critical operations.\n",
      "To enable the following instructions: AVX2 AVX512F AVX512_VNNI FMA, in other operations, rebuild TensorFlow with the appropriate compiler flags.\n"
     ]
    }
   ],
   "source": [
    "import pandas as pd\n",
    "import numpy as np\n",
    "import matplotlib.pyplot as plt\n",
    "import seaborn as sns\n",
    "\n",
    "from sklearn.model_selection import train_test_split\n",
    "from sklearn.preprocessing import LabelEncoder, StandardScaler\n",
    "from tensorflow import keras\n",
    "from tensorflow.keras import layers\n"
   ]
  },
  {
   "cell_type": "code",
   "execution_count": 2,
   "metadata": {},
   "outputs": [
    {
     "name": "stdout",
     "output_type": "stream",
     "text": [
      "         diseases  anxiety and nervousness  depression  shortness of breath  \\\n",
      "0  panic disorder                        1           0                    1   \n",
      "1  panic disorder                        0           0                    1   \n",
      "2  panic disorder                        1           1                    1   \n",
      "3  panic disorder                        1           0                    0   \n",
      "4  panic disorder                        1           1                    0   \n",
      "\n",
      "   sharp chest pain  dizziness  insomnia  chest tightness  palpitations  \\\n",
      "0                 0          0         0                1             1   \n",
      "1                 0          1         1                0             1   \n",
      "2                 0          1         1                0             1   \n",
      "3                 0          1         1                0             0   \n",
      "4                 0          0         1                1             0   \n",
      "\n",
      "   irregular heartbeat  ...  difficulty breathing  wheezing  heartburn  \\\n",
      "0                    1  ...                     0         0          0   \n",
      "1                    0  ...                     0         0          0   \n",
      "2                    1  ...                     0         0          0   \n",
      "3                    0  ...                     0         0          0   \n",
      "4                    0  ...                     0         0          0   \n",
      "\n",
      "   pallor  chills  flushing  decreased appetite  excessive appetite  \\\n",
      "0       0       0         0                   0                   0   \n",
      "1       0       0         0                   0                   0   \n",
      "2       0       0         0                   0                   0   \n",
      "3       0       0         0                   0                   0   \n",
      "4       0       0         0                   0                   0   \n",
      "\n",
      "   decreased heart rate  increased heart rate  \n",
      "0                     0                     0  \n",
      "1                     0                     0  \n",
      "2                     0                     0  \n",
      "3                     0                     0  \n",
      "4                     0                     0  \n",
      "\n",
      "[5 rows x 41 columns]\n",
      "diseases                       0\n",
      "anxiety and nervousness        0\n",
      "depression                     0\n",
      "shortness of breath            0\n",
      "sharp chest pain               0\n",
      "dizziness                      0\n",
      "insomnia                       0\n",
      "chest tightness                0\n",
      "palpitations                   0\n",
      "irregular heartbeat            0\n",
      "breathing fast                 0\n",
      "cough                          0\n",
      "vomiting                       0\n",
      "headache                       0\n",
      "nausea                         0\n",
      "diarrhea                       0\n",
      "painful urination              0\n",
      "frequent urination             0\n",
      "blood in urine                 0\n",
      "weakness                       0\n",
      "fever                          0\n",
      "fatigue                        0\n",
      "weight gain                    0\n",
      "recent weight loss             0\n",
      "jaundice                       0\n",
      "swollen lymph nodes            0\n",
      "constipation                   0\n",
      "seizures                       0\n",
      "delusions or hallucinations    0\n",
      "joint pain                     0\n",
      "muscle pain                    0\n",
      "difficulty breathing           0\n",
      "wheezing                       0\n",
      "heartburn                      0\n",
      "pallor                         0\n",
      "chills                         0\n",
      "flushing                       0\n",
      "decreased appetite             0\n",
      "excessive appetite             0\n",
      "decreased heart rate           0\n",
      "increased heart rate           0\n",
      "dtype: int64\n",
      "<class 'pandas.core.frame.DataFrame'>\n",
      "RangeIndex: 25486 entries, 0 to 25485\n",
      "Data columns (total 41 columns):\n",
      " #   Column                       Non-Null Count  Dtype \n",
      "---  ------                       --------------  ----- \n",
      " 0   diseases                     25486 non-null  object\n",
      " 1   anxiety and nervousness      25486 non-null  int64 \n",
      " 2   depression                   25486 non-null  int64 \n",
      " 3   shortness of breath          25486 non-null  int64 \n",
      " 4   sharp chest pain             25486 non-null  int64 \n",
      " 5   dizziness                    25486 non-null  int64 \n",
      " 6   insomnia                     25486 non-null  int64 \n",
      " 7   chest tightness              25486 non-null  int64 \n",
      " 8   palpitations                 25486 non-null  int64 \n",
      " 9   irregular heartbeat          25486 non-null  int64 \n",
      " 10  breathing fast               25486 non-null  int64 \n",
      " 11  cough                        25486 non-null  int64 \n",
      " 12  vomiting                     25486 non-null  int64 \n",
      " 13  headache                     25486 non-null  int64 \n",
      " 14  nausea                       25486 non-null  int64 \n",
      " 15  diarrhea                     25486 non-null  int64 \n",
      " 16  painful urination            25486 non-null  int64 \n",
      " 17  frequent urination           25486 non-null  int64 \n",
      " 18  blood in urine               25486 non-null  int64 \n",
      " 19  weakness                     25486 non-null  int64 \n",
      " 20  fever                        25486 non-null  int64 \n",
      " 21  fatigue                      25486 non-null  int64 \n",
      " 22  weight gain                  25486 non-null  int64 \n",
      " 23  recent weight loss           25486 non-null  int64 \n",
      " 24  jaundice                     25486 non-null  int64 \n",
      " 25  swollen lymph nodes          25486 non-null  int64 \n",
      " 26  constipation                 25486 non-null  int64 \n",
      " 27  seizures                     25486 non-null  int64 \n",
      " 28  delusions or hallucinations  25486 non-null  int64 \n",
      " 29  joint pain                   25486 non-null  int64 \n",
      " 30  muscle pain                  25486 non-null  int64 \n",
      " 31  difficulty breathing         25486 non-null  int64 \n",
      " 32  wheezing                     25486 non-null  int64 \n",
      " 33  heartburn                    25486 non-null  int64 \n",
      " 34  pallor                       25486 non-null  int64 \n",
      " 35  chills                       25486 non-null  int64 \n",
      " 36  flushing                     25486 non-null  int64 \n",
      " 37  decreased appetite           25486 non-null  int64 \n",
      " 38  excessive appetite           25486 non-null  int64 \n",
      " 39  decreased heart rate         25486 non-null  int64 \n",
      " 40  increased heart rate         25486 non-null  int64 \n",
      "dtypes: int64(40), object(1)\n",
      "memory usage: 8.0+ MB\n",
      "None\n"
     ]
    }
   ],
   "source": [
    "file_path = \"fix-kan.csv\"  # Ganti dengan path file-mu\n",
    "df = pd.read_csv(file_path)\n",
    "\n",
    "# Cek beberapa baris pertama\n",
    "print(df.head())\n",
    "print(df.isnull().sum())\n",
    "# Cek informasi dataset\n",
    "print(df.info())\n",
    "# Encode label jika diseases berupa kategori\n",
    "label_encoder = LabelEncoder()\n",
    "df['target'] = label_encoder.fit_transform(df['diseases'])  # Ganti 'diseases' dengan nama kolom diseases\n",
    "\n",
    "# Normalisasi fitur numerik\n",
    "scaler = StandardScaler()\n",
    "X = df.drop(columns=['diseases'])  # Ganti 'diseases' dengan nama kolom diseases\n",
    "X_scaled = scaler.fit_transform(X)\n",
    "\n",
    "y = df['diseases']\n"
   ]
  },
  {
   "cell_type": "code",
   "execution_count": 3,
   "metadata": {},
   "outputs": [],
   "source": [
    "# 4️⃣ Preprocessing Data\n",
    "X = df.drop(columns=['diseases'])  # Ganti 'diseases' dengan nama kolom label\n",
    "y = df['diseases']\n",
    "\n",
    "# Encode label jika masih berbentuk string\n",
    "le = LabelEncoder()\n",
    "y = le.fit_transform(y)"
   ]
  },
  {
   "cell_type": "code",
   "execution_count": 4,
   "metadata": {},
   "outputs": [
    {
     "name": "stdout",
     "output_type": "stream",
     "text": [
      "Epoch 1/15\n"
     ]
    },
    {
     "name": "stderr",
     "output_type": "stream",
     "text": [
      "/root/capstone-fahri/.venv/lib/python3.12/site-packages/keras/src/layers/core/dense.py:87: UserWarning: Do not pass an `input_shape`/`input_dim` argument to a layer. When using Sequential models, prefer using an `Input(shape)` object as the first layer in the model instead.\n",
      "  super().__init__(activity_regularizer=activity_regularizer, **kwargs)\n",
      "2025-03-27 07:33:28.813596: E external/local_xla/xla/stream_executor/cuda/cuda_platform.cc:51] failed call to cuInit: INTERNAL: CUDA error: Failed call to cuInit: UNKNOWN ERROR (303)\n"
     ]
    },
    {
     "name": "stdout",
     "output_type": "stream",
     "text": [
      "\u001b[1m638/638\u001b[0m \u001b[32m━━━━━━━━━━━━━━━━━━━━\u001b[0m\u001b[37m\u001b[0m \u001b[1m4s\u001b[0m 4ms/step - accuracy: 0.3205 - loss: 2.5258 - val_accuracy: 0.7344 - val_loss: 0.7232\n",
      "Epoch 2/15\n",
      "\u001b[1m638/638\u001b[0m \u001b[32m━━━━━━━━━━━━━━━━━━━━\u001b[0m\u001b[37m\u001b[0m \u001b[1m2s\u001b[0m 3ms/step - accuracy: 0.7315 - loss: 0.7480 - val_accuracy: 0.8309 - val_loss: 0.4692\n",
      "Epoch 3/15\n",
      "\u001b[1m638/638\u001b[0m \u001b[32m━━━━━━━━━━━━━━━━━━━━\u001b[0m\u001b[37m\u001b[0m \u001b[1m2s\u001b[0m 3ms/step - accuracy: 0.7987 - loss: 0.5550 - val_accuracy: 0.8629 - val_loss: 0.3837\n",
      "Epoch 4/15\n",
      "\u001b[1m638/638\u001b[0m \u001b[32m━━━━━━━━━━━━━━━━━━━━\u001b[0m\u001b[37m\u001b[0m \u001b[1m2s\u001b[0m 3ms/step - accuracy: 0.8234 - loss: 0.4700 - val_accuracy: 0.8856 - val_loss: 0.3273\n",
      "Epoch 5/15\n",
      "\u001b[1m638/638\u001b[0m \u001b[32m━━━━━━━━━━━━━━━━━━━━\u001b[0m\u001b[37m\u001b[0m \u001b[1m2s\u001b[0m 3ms/step - accuracy: 0.8433 - loss: 0.4172 - val_accuracy: 0.8750 - val_loss: 0.3011\n",
      "Epoch 6/15\n",
      "\u001b[1m638/638\u001b[0m \u001b[32m━━━━━━━━━━━━━━━━━━━━\u001b[0m\u001b[37m\u001b[0m \u001b[1m2s\u001b[0m 3ms/step - accuracy: 0.8558 - loss: 0.3804 - val_accuracy: 0.8966 - val_loss: 0.2742\n",
      "Epoch 7/15\n",
      "\u001b[1m638/638\u001b[0m \u001b[32m━━━━━━━━━━━━━━━━━━━━\u001b[0m\u001b[37m\u001b[0m \u001b[1m2s\u001b[0m 3ms/step - accuracy: 0.8679 - loss: 0.3473 - val_accuracy: 0.9137 - val_loss: 0.2509\n",
      "Epoch 8/15\n",
      "\u001b[1m638/638\u001b[0m \u001b[32m━━━━━━━━━━━━━━━━━━━━\u001b[0m\u001b[37m\u001b[0m \u001b[1m2s\u001b[0m 3ms/step - accuracy: 0.8735 - loss: 0.3249 - val_accuracy: 0.9123 - val_loss: 0.2264\n",
      "Epoch 9/15\n",
      "\u001b[1m638/638\u001b[0m \u001b[32m━━━━━━━━━━━━━━━━━━━━\u001b[0m\u001b[37m\u001b[0m \u001b[1m2s\u001b[0m 3ms/step - accuracy: 0.8897 - loss: 0.2893 - val_accuracy: 0.9345 - val_loss: 0.2123\n",
      "Epoch 10/15\n",
      "\u001b[1m638/638\u001b[0m \u001b[32m━━━━━━━━━━━━━━━━━━━━\u001b[0m\u001b[37m\u001b[0m \u001b[1m2s\u001b[0m 3ms/step - accuracy: 0.8987 - loss: 0.2649 - val_accuracy: 0.9247 - val_loss: 0.1977\n",
      "Epoch 11/15\n",
      "\u001b[1m638/638\u001b[0m \u001b[32m━━━━━━━━━━━━━━━━━━━━\u001b[0m\u001b[37m\u001b[0m \u001b[1m2s\u001b[0m 3ms/step - accuracy: 0.8984 - loss: 0.2674 - val_accuracy: 0.9361 - val_loss: 0.1785\n",
      "Epoch 12/15\n",
      "\u001b[1m638/638\u001b[0m \u001b[32m━━━━━━━━━━━━━━━━━━━━\u001b[0m\u001b[37m\u001b[0m \u001b[1m2s\u001b[0m 3ms/step - accuracy: 0.9062 - loss: 0.2478 - val_accuracy: 0.9417 - val_loss: 0.1704\n",
      "Epoch 13/15\n",
      "\u001b[1m638/638\u001b[0m \u001b[32m━━━━━━━━━━━━━━━━━━━━\u001b[0m\u001b[37m\u001b[0m \u001b[1m2s\u001b[0m 3ms/step - accuracy: 0.9137 - loss: 0.2324 - val_accuracy: 0.9547 - val_loss: 0.1663\n",
      "Epoch 14/15\n",
      "\u001b[1m638/638\u001b[0m \u001b[32m━━━━━━━━━━━━━━━━━━━━\u001b[0m\u001b[37m\u001b[0m \u001b[1m2s\u001b[0m 3ms/step - accuracy: 0.9151 - loss: 0.2299 - val_accuracy: 0.9539 - val_loss: 0.1515\n",
      "Epoch 15/15\n",
      "\u001b[1m638/638\u001b[0m \u001b[32m━━━━━━━━━━━━━━━━━━━━\u001b[0m\u001b[37m\u001b[0m \u001b[1m2s\u001b[0m 3ms/step - accuracy: 0.9179 - loss: 0.2183 - val_accuracy: 0.9494 - val_loss: 0.1504\n",
      "\u001b[1m160/160\u001b[0m \u001b[32m━━━━━━━━━━━━━━━━━━━━\u001b[0m\u001b[37m\u001b[0m \u001b[1m0s\u001b[0m 2ms/step - accuracy: 0.9503 - loss: 0.1444\n",
      "Test Accuracy: 94.94%\n"
     ]
    }
   ],
   "source": [
    "# Pisahkan Train & Test Data (80:20)\n",
    "X_train, X_test, y_train, y_test = train_test_split(X, y, test_size=0.2, random_state=42)\n",
    "\n",
    "# 5️⃣ Normalisasi Data\n",
    "scaler = StandardScaler()\n",
    "X_train_scaled = scaler.fit_transform(X_train)\n",
    "X_test_scaled = scaler.transform(X_test)\n",
    "\n",
    "# 6️⃣ Bangun Model ANN\n",
    "# Bangun Model ANN dengan Optimasi\n",
    "model = keras.Sequential([\n",
    "    layers.Dense(256, activation='relu', input_shape=(X_train.shape[1],)),\n",
    "    layers.Dropout(0.3),  # Dropout untuk mencegah overfitting\n",
    "    layers.Dense(128, activation='relu'),\n",
    "    layers.Dropout(0.3),\n",
    "    layers.Dense(64, activation='relu'),\n",
    "    layers.Dense(32, activation='relu'),\n",
    "    layers.Dense(len(np.unique(y)), activation='softmax')\n",
    "])\n",
    "\n",
    "# Compile Model dengan Learning Rate yang Lebih Kecil\n",
    "optimizer = keras.optimizers.Adam(learning_rate=0.0005)  # Lebih kecil dari default 0.001\n",
    "model.compile(optimizer=optimizer, loss='sparse_categorical_crossentropy', metrics=['accuracy'])\n",
    "\n",
    "# Latih Model dengan Epoch Lebih Banyak\n",
    "history = model.fit(X_train_scaled, y_train, epochs=15, batch_size=32, validation_data=(X_test_scaled, y_test))\n",
    "\n",
    "# Evaluasi Model\n",
    "test_loss, test_acc = model.evaluate(X_test_scaled, y_test)\n",
    "print(f\"Test Accuracy: {test_acc * 100:.2f}%\")\n"
   ]
  },
  {
   "cell_type": "code",
   "execution_count": 5,
   "metadata": {},
   "outputs": [
    {
     "name": "stderr",
     "output_type": "stream",
     "text": [
      "WARNING:absl:You are saving your model as an HDF5 file via `model.save()` or `keras.saving.save_model(model)`. This file format is considered legacy. We recommend using instead the native Keras format, e.g. `model.save('my_model.keras')` or `keras.saving.save_model(model, 'my_model.keras')`. \n"
     ]
    }
   ],
   "source": [
    "\n",
    "# Simpan model setelah training (jika belum disimpan)\n",
    "model.save('my_ann_model_fix-kan.h5')\n",
    "\n",
    "# Simpan scaler agar input data tetap konsisten saat prediksi"
   ]
  },
  {
   "cell_type": "code",
   "execution_count": 6,
   "metadata": {},
   "outputs": [
    {
     "name": "stdout",
     "output_type": "stream",
     "text": [
      "Scaler berhasil disimpan di scaler.pkl\n"
     ]
    }
   ],
   "source": [
    "import pickle\n",
    "from sklearn.preprocessing import StandardScaler\n",
    "\n",
    "# Inisialisasi dan fit scaler dengan data training\n",
    "scaler = StandardScaler()\n",
    "X_train_scaled = scaler.fit_transform(X_train)\n",
    "\n",
    "# Simpan scaler ke file\n",
    "scaler_path = \"scaler.pkl\"\n",
    "with open(scaler_path, 'wb') as f:\n",
    "    pickle.dump(scaler, f)\n",
    "\n",
    "print(f\"Scaler berhasil disimpan di {scaler_path}\")\n"
   ]
  },
  {
   "cell_type": "code",
   "execution_count": 11,
   "metadata": {},
   "outputs": [
    {
     "data": {
      "text/plain": [
       "['model.joblib']"
      ]
     },
     "execution_count": 11,
     "metadata": {},
     "output_type": "execute_result"
    }
   ],
   "source": [
    "import joblib\n",
    "joblib.dump(model, 'model.joblib')"
   ]
  },
  {
   "cell_type": "code",
   "execution_count": 1,
   "metadata": {},
   "outputs": [
    {
     "name": "stdout",
     "output_type": "stream",
     "text": [
      "end\n"
     ]
    }
   ],
   "source": [
    "print('end')"
   ]
  }
 ],
 "metadata": {
  "kernelspec": {
   "display_name": ".venv",
   "language": "python",
   "name": "python3"
  },
  "language_info": {
   "codemirror_mode": {
    "name": "ipython",
    "version": 3
   },
   "file_extension": ".py",
   "mimetype": "text/x-python",
   "name": "python",
   "nbconvert_exporter": "python",
   "pygments_lexer": "ipython3",
   "version": "3.12.3"
  }
 },
 "nbformat": 4,
 "nbformat_minor": 2
}
